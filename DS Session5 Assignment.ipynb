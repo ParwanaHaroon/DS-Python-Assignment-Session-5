{
 "cells": [
  {
   "cell_type": "code",
   "execution_count": 9,
   "metadata": {},
   "outputs": [
    {
     "name": "stdout",
     "output_type": "stream",
     "text": [
      "Handling run-time error: division by zero\n"
     ]
    }
   ],
   "source": [
    "# Question 1: Write a function to compute 5/0 and use try/except to catch exception\n",
    "\n",
    "def this_fails():\n",
    "    x = 5/0\n",
    "try:\n",
    "    this_fails()\n",
    "except ZeroDivisionError as err:\n",
    "    print('Handling run-time error:', err)\n",
    "      "
   ]
  },
  {
   "cell_type": "code",
   "execution_count": 15,
   "metadata": {},
   "outputs": [
    {
     "name": "stdout",
     "output_type": "stream",
     "text": [
      "The entry is 5\n",
      "The reciprocal of 5 is 1.0\n"
     ]
    }
   ],
   "source": [
    "import sys\n",
    "\n",
    "randomList = [5,0]\n",
    "for entry in randomList:\n",
    "    try:\n",
    "        print(\"The entry is\", entry)\n",
    "        r = 5/int(entry)\n",
    "        break\n",
    "    except:\n",
    "        print(\"Oops!\", sys.exc_info()[0], \"occured.\")\n",
    "        print(\"Next entry.\")\n",
    "        print()\n",
    "print(\"The reciprocal of\", entry, \"is\", r)\n",
    "    \n"
   ]
  },
  {
   "cell_type": "code",
   "execution_count": null,
   "metadata": {},
   "outputs": [],
   "source": [
    "#Q: Implement a python program to generate all sentences where subject is in \n",
    "# [\"Americans\", \"Indians\"] and verb is in [\"play\", \"watch\"] and the object is in \n",
    "# [\"Baseball\", \"cricket\"]"
   ]
  },
  {
   "cell_type": "code",
   "execution_count": 16,
   "metadata": {},
   "outputs": [
    {
     "name": "stdout",
     "output_type": "stream",
     "text": [
      "Americans play baseball\n",
      "Americans play cricket\n",
      "Americans watch baseball\n",
      "Americans watch cricket\n",
      "Indians play baseball\n",
      "Indians play cricket\n",
      "Indians watch baseball\n",
      "Indians watch cricket\n"
     ]
    }
   ],
   "source": [
    "subject = [\"Americans\", \"Indians\"]\n",
    "verb = [\"play\", \"watch\"]\n",
    "obj = [\"baseball\", \"cricket\"]\n",
    "\n",
    "sentence_list = [(sub+\" \"+vb + \" \" + ob) for sub in subject for vb in verb for ob in obj ]\n",
    "\n",
    "for sentence in sentence_list:\n",
    "    \n",
    "    print (sentence)"
   ]
  },
  {
   "cell_type": "code",
   "execution_count": null,
   "metadata": {},
   "outputs": [],
   "source": []
  }
 ],
 "metadata": {
  "kernelspec": {
   "display_name": "Python 3",
   "language": "python",
   "name": "python3"
  },
  "language_info": {
   "codemirror_mode": {
    "name": "ipython",
    "version": 3
   },
   "file_extension": ".py",
   "mimetype": "text/x-python",
   "name": "python",
   "nbconvert_exporter": "python",
   "pygments_lexer": "ipython3",
   "version": "3.6.5"
  }
 },
 "nbformat": 4,
 "nbformat_minor": 2
}
